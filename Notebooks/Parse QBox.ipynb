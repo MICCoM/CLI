{
 "cells": [
  {
   "cell_type": "code",
   "execution_count": 18,
   "metadata": {
    "collapsed": true
   },
   "outputs": [],
   "source": [
    "# Basic Python modules for http and json encoding/decoding\n",
    "import urllib2\n",
    "import json\n",
    "import pprint\n",
    "import re\n",
    "import os\n",
    "import sys\n",
    "import xml.etree.ElementTree as ET"
   ]
  },
  {
   "cell_type": "code",
   "execution_count": 2,
   "metadata": {
    "collapsed": true
   },
   "outputs": [],
   "source": [
    "# Environment\n",
    "path = \"/Users/Andi/Development/MICCoM/cli/\"\n",
    "sys.path.append( path )\n",
    "sys.path.append(\"/Users/Andi/Development/MG-RAST-Repo/MG-RAST-Tools/tools/lib/\")\n",
    "\n",
    "#os.chdir(path)\n",
    "os.chdir(\"..\")"
   ]
  },
  {
   "cell_type": "code",
   "execution_count": 6,
   "metadata": {
    "collapsed": true
   },
   "outputs": [],
   "source": [
    "# Path to output data for parser\n",
    "dataDir = \"/Users/Andi/Development/MICCoM/Data/Qbox/Output\""
   ]
  },
  {
   "cell_type": "code",
   "execution_count": 4,
   "metadata": {
    "collapsed": false
   },
   "outputs": [
    {
     "data": {
      "text/plain": [
       "u'/Users/Andi/Development/Notebooks'"
      ]
     },
     "execution_count": 4,
     "metadata": {},
     "output_type": "execute_result"
    }
   ],
   "source": [
    "pwd"
   ]
  },
  {
   "cell_type": "code",
   "execution_count": 5,
   "metadata": {
    "collapsed": false
   },
   "outputs": [
    {
     "data": {
      "text/plain": [
       "['',\n",
       " '/Library/Frameworks/Python.framework/Versions/2.7/lib/python2.7/site-packages/setuptools-5.4.1-py2.7.egg',\n",
       " '/Library/Frameworks/Python.framework/Versions/2.7/lib/python27.zip',\n",
       " '/Library/Frameworks/Python.framework/Versions/2.7/lib/python2.7',\n",
       " '/Library/Frameworks/Python.framework/Versions/2.7/lib/python2.7/plat-darwin',\n",
       " '/Library/Frameworks/Python.framework/Versions/2.7/lib/python2.7/plat-mac',\n",
       " '/Library/Frameworks/Python.framework/Versions/2.7/lib/python2.7/plat-mac/lib-scriptpackages',\n",
       " '/Library/Frameworks/Python.framework/Versions/2.7/lib/python2.7/lib-tk',\n",
       " '/Library/Frameworks/Python.framework/Versions/2.7/lib/python2.7/lib-old',\n",
       " '/Library/Frameworks/Python.framework/Versions/2.7/lib/python2.7/lib-dynload',\n",
       " '/Library/Frameworks/Python.framework/Versions/2.7/lib/python2.7/site-packages',\n",
       " '/Library/Python/2.7/site-packages',\n",
       " '/Library/Frameworks/Python.framework/Versions/2.7/lib/python2.7/site-packages/IPython/extensions',\n",
       " '/Users/Andi/.ipython',\n",
       " '/Users/Andi/Development/MICCoM/cli//',\n",
       " '/Users/Andi/Development/MG-RAST-Repo/MG-RAST-Tools/tools/lib/']"
      ]
     },
     "execution_count": 5,
     "metadata": {},
     "output_type": "execute_result"
    }
   ],
   "source": [
    "sys.path"
   ]
  },
  {
   "cell_type": "code",
   "execution_count": 9,
   "metadata": {
    "collapsed": false
   },
   "outputs": [],
   "source": [
    "# Open File - make sure we can read xml structures\n",
    "import xml.etree.ElementTree as ET\n",
    "tree = ET.parse(dataDir + '/si2gs.xml')\n",
    "root = tree.getroot()"
   ]
  },
  {
   "cell_type": "code",
   "execution_count": 29,
   "metadata": {
    "collapsed": false
   },
   "outputs": [
    {
     "name": "stdout",
     "output_type": "stream",
     "text": [
      "description\n",
      "atomset\n",
      "wavefunction\n"
     ]
    }
   ],
   "source": [
    "for child in root:\n",
    "    print child.tag"
   ]
  },
  {
   "cell_type": "code",
   "execution_count": 34,
   "metadata": {
    "collapsed": false
   },
   "outputs": [
    {
     "name": "stdout",
     "output_type": "stream",
     "text": [
      "description {}   Created 2015-10-07T19:02:36Z by qbox-1.62.3   0\n",
      "atomset {} \n",
      "4\n",
      "atomset unit_cell\n",
      "atomset species\n",
      "atomset atom\n",
      "atomset atom\n",
      "wavefunction {'nempty': '0', 'nel': '8', 'nspin': '1', 'ecut': '7.5'} \n",
      "15\n",
      "wavefunction domain\n",
      "wavefunction reference_domain\n",
      "wavefunction grid\n",
      "wavefunction slater_determinant\n",
      "wavefunction slater_determinant\n",
      "wavefunction slater_determinant\n",
      "wavefunction slater_determinant\n",
      "wavefunction slater_determinant\n",
      "wavefunction slater_determinant\n",
      "wavefunction slater_determinant\n",
      "wavefunction slater_determinant\n",
      "wavefunction slater_determinant\n",
      "wavefunction slater_determinant\n",
      "wavefunction slater_determinant\n",
      "wavefunction slater_determinant\n"
     ]
    }
   ],
   "source": [
    "for child in root:\n",
    "    print child.tag , child.attrib , child.text , len(child)\n",
    "    \n",
    "    if len(child) :\n",
    "        for c in child:\n",
    "            print child.tag , c.tag"
   ]
  },
  {
   "cell_type": "code",
   "execution_count": 44,
   "metadata": {
    "collapsed": false
   },
   "outputs": [],
   "source": [
    "def traverse ( node , parent) :\n",
    "    \n",
    "    for i in node :\n",
    "        print parent.tag , i.tag\n",
    "        \n",
    "    for i in node :\n",
    "        if len(node):\n",
    "            traverse(i , node)\n",
    "            \n",
    "    \n",
    "\n",
    "\n"
   ]
  },
  {
   "cell_type": "code",
   "execution_count": 45,
   "metadata": {
    "collapsed": false
   },
   "outputs": [
    {
     "name": "stdout",
     "output_type": "stream",
     "text": [
      "{http://www.quantum-simulation.org/ns/fpmd/fpmd-1.0}sample unit_cell\n",
      "{http://www.quantum-simulation.org/ns/fpmd/fpmd-1.0}sample species\n",
      "{http://www.quantum-simulation.org/ns/fpmd/fpmd-1.0}sample atom\n",
      "{http://www.quantum-simulation.org/ns/fpmd/fpmd-1.0}sample atom\n",
      "atomset description\n",
      "atomset symbol\n",
      "atomset atomic_number\n",
      "atomset mass\n",
      "atomset norm_conserving_pseudopotential\n",
      "species valence_charge\n",
      "species lmax\n",
      "species llocal\n",
      "species nquad\n",
      "species rquad\n",
      "species mesh_spacing\n",
      "species projector\n",
      "species projector\n",
      "species projector\n",
      "norm_conserving_pseudopotential radial_potential\n",
      "norm_conserving_pseudopotential radial_function\n",
      "norm_conserving_pseudopotential radial_potential\n",
      "norm_conserving_pseudopotential radial_function\n",
      "norm_conserving_pseudopotential radial_potential\n",
      "norm_conserving_pseudopotential radial_function\n",
      "atomset position\n",
      "atomset velocity\n",
      "atomset position\n",
      "atomset velocity\n",
      "{http://www.quantum-simulation.org/ns/fpmd/fpmd-1.0}sample domain\n",
      "{http://www.quantum-simulation.org/ns/fpmd/fpmd-1.0}sample reference_domain\n",
      "{http://www.quantum-simulation.org/ns/fpmd/fpmd-1.0}sample grid\n",
      "{http://www.quantum-simulation.org/ns/fpmd/fpmd-1.0}sample slater_determinant\n",
      "{http://www.quantum-simulation.org/ns/fpmd/fpmd-1.0}sample slater_determinant\n",
      "{http://www.quantum-simulation.org/ns/fpmd/fpmd-1.0}sample slater_determinant\n",
      "{http://www.quantum-simulation.org/ns/fpmd/fpmd-1.0}sample slater_determinant\n",
      "{http://www.quantum-simulation.org/ns/fpmd/fpmd-1.0}sample slater_determinant\n",
      "{http://www.quantum-simulation.org/ns/fpmd/fpmd-1.0}sample slater_determinant\n",
      "{http://www.quantum-simulation.org/ns/fpmd/fpmd-1.0}sample slater_determinant\n",
      "{http://www.quantum-simulation.org/ns/fpmd/fpmd-1.0}sample slater_determinant\n",
      "{http://www.quantum-simulation.org/ns/fpmd/fpmd-1.0}sample slater_determinant\n",
      "{http://www.quantum-simulation.org/ns/fpmd/fpmd-1.0}sample slater_determinant\n",
      "{http://www.quantum-simulation.org/ns/fpmd/fpmd-1.0}sample slater_determinant\n",
      "{http://www.quantum-simulation.org/ns/fpmd/fpmd-1.0}sample slater_determinant\n",
      "wavefunction density_matrix\n",
      "wavefunction grid_function\n",
      "wavefunction grid_function\n",
      "wavefunction grid_function\n",
      "wavefunction grid_function\n",
      "wavefunction density_matrix\n",
      "wavefunction grid_function\n",
      "wavefunction grid_function\n",
      "wavefunction grid_function\n",
      "wavefunction grid_function\n",
      "wavefunction density_matrix\n",
      "wavefunction grid_function\n",
      "wavefunction grid_function\n",
      "wavefunction grid_function\n",
      "wavefunction grid_function\n",
      "wavefunction density_matrix\n",
      "wavefunction grid_function\n",
      "wavefunction grid_function\n",
      "wavefunction grid_function\n",
      "wavefunction grid_function\n",
      "wavefunction density_matrix\n",
      "wavefunction grid_function\n",
      "wavefunction grid_function\n",
      "wavefunction grid_function\n",
      "wavefunction grid_function\n",
      "wavefunction density_matrix\n",
      "wavefunction grid_function\n",
      "wavefunction grid_function\n",
      "wavefunction grid_function\n",
      "wavefunction grid_function\n",
      "wavefunction density_matrix\n",
      "wavefunction grid_function\n",
      "wavefunction grid_function\n",
      "wavefunction grid_function\n",
      "wavefunction grid_function\n",
      "wavefunction density_matrix\n",
      "wavefunction grid_function\n",
      "wavefunction grid_function\n",
      "wavefunction grid_function\n",
      "wavefunction grid_function\n",
      "wavefunction density_matrix\n",
      "wavefunction grid_function\n",
      "wavefunction grid_function\n",
      "wavefunction grid_function\n",
      "wavefunction grid_function\n",
      "wavefunction density_matrix\n",
      "wavefunction grid_function\n",
      "wavefunction grid_function\n",
      "wavefunction grid_function\n",
      "wavefunction grid_function\n",
      "wavefunction density_matrix\n",
      "wavefunction grid_function\n",
      "wavefunction grid_function\n",
      "wavefunction grid_function\n",
      "wavefunction grid_function\n",
      "wavefunction density_matrix\n",
      "wavefunction grid_function\n",
      "wavefunction grid_function\n",
      "wavefunction grid_function\n",
      "wavefunction grid_function\n"
     ]
    }
   ],
   "source": [
    "for child in root:\n",
    "    traverse(child , root)"
   ]
  },
  {
   "cell_type": "code",
   "execution_count": null,
   "metadata": {
    "collapsed": true
   },
   "outputs": [],
   "source": []
  }
 ],
 "metadata": {
  "kernelspec": {
   "display_name": "Python 2",
   "language": "python",
   "name": "python2"
  },
  "language_info": {
   "codemirror_mode": {
    "name": "ipython",
    "version": 2
   },
   "file_extension": ".py",
   "mimetype": "text/x-python",
   "name": "python",
   "nbconvert_exporter": "python",
   "pygments_lexer": "ipython2",
   "version": "2.7.8"
  }
 },
 "nbformat": 4,
 "nbformat_minor": 0
}
